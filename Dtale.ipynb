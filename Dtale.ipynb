{
 "cells": [
  {
   "cell_type": "code",
   "execution_count": 1,
   "id": "f6e7f494",
   "metadata": {
    "ExecuteTime": {
     "end_time": "2022-09-25T05:57:12.636136Z",
     "start_time": "2022-09-25T05:57:09.212294Z"
    }
   },
   "outputs": [
    {
     "name": "stdout",
     "output_type": "stream",
     "text": [
      "Requirement already satisfied: dtale in c:\\users\\subhajit\\anaconda3\\lib\\site-packages (2.8.1)\n",
      "Requirement already satisfied: dash-bootstrap-components in c:\\users\\subhajit\\anaconda3\\lib\\site-packages (from dtale) (1.2.1)\n",
      "Requirement already satisfied: openpyxl in c:\\users\\subhajit\\anaconda3\\lib\\site-packages (from dtale) (3.0.9)\n",
      "Requirement already satisfied: plotly>=5.0.0 in c:\\users\\subhajit\\anaconda3\\lib\\site-packages (from dtale) (5.6.0)\n",
      "Requirement already satisfied: lz4 in c:\\users\\subhajit\\anaconda3\\lib\\site-packages (from dtale) (4.0.2)\n",
      "Requirement already satisfied: future>=0.14.0 in c:\\users\\subhajit\\anaconda3\\lib\\site-packages (from dtale) (0.18.2)\n",
      "Requirement already satisfied: statsmodels in c:\\users\\subhajit\\anaconda3\\lib\\site-packages (from dtale) (0.13.2)\n",
      "Requirement already satisfied: flask-ngrok in c:\\users\\subhajit\\anaconda3\\lib\\site-packages (from dtale) (0.0.25)\n",
      "Requirement already satisfied: dash-daq in c:\\users\\subhajit\\anaconda3\\lib\\site-packages (from dtale) (0.5.0)\n",
      "Requirement already satisfied: cycler in c:\\users\\subhajit\\anaconda3\\lib\\site-packages (from dtale) (0.11.0)\n",
      "Requirement already satisfied: Flask-Compress in c:\\users\\subhajit\\anaconda3\\lib\\site-packages (from dtale) (1.13)\n",
      "Requirement already satisfied: itsdangerous in c:\\users\\subhajit\\anaconda3\\lib\\site-packages (from dtale) (2.0.1)\n",
      "Requirement already satisfied: Flask in c:\\users\\subhajit\\anaconda3\\lib\\site-packages (from dtale) (2.2.2)\n",
      "Requirement already satisfied: networkx in c:\\users\\subhajit\\anaconda3\\lib\\site-packages (from dtale) (2.7.1)\n",
      "Requirement already satisfied: requests in c:\\users\\subhajit\\anaconda3\\lib\\site-packages (from dtale) (2.27.1)\n",
      "Requirement already satisfied: kaleido in c:\\users\\subhajit\\anaconda3\\lib\\site-packages (from dtale) (0.2.1)\n",
      "Requirement already satisfied: matplotlib in c:\\users\\subhajit\\anaconda3\\lib\\site-packages (from dtale) (3.5.1)\n",
      "Requirement already satisfied: pandas in c:\\users\\subhajit\\anaconda3\\lib\\site-packages (from dtale) (1.4.2)\n",
      "Requirement already satisfied: squarify in c:\\users\\subhajit\\anaconda3\\lib\\site-packages (from dtale) (0.4.3)\n",
      "Requirement already satisfied: seaborn in c:\\users\\subhajit\\anaconda3\\lib\\site-packages (from dtale) (0.11.2)\n",
      "Requirement already satisfied: dash-colorscales in c:\\users\\subhajit\\anaconda3\\lib\\site-packages (from dtale) (0.0.4)\n",
      "Requirement already satisfied: et-xmlfile in c:\\users\\subhajit\\anaconda3\\lib\\site-packages (from dtale) (1.1.0)\n",
      "Requirement already satisfied: strsimpy in c:\\users\\subhajit\\anaconda3\\lib\\site-packages (from dtale) (0.2.1)\n",
      "Requirement already satisfied: scikit-learn in c:\\users\\subhajit\\anaconda3\\lib\\site-packages (from dtale) (1.0.2)\n",
      "Requirement already satisfied: xarray in c:\\users\\subhajit\\anaconda3\\lib\\site-packages (from dtale) (0.20.1)\n",
      "Requirement already satisfied: missingno<=0.4.2 in c:\\users\\subhajit\\anaconda3\\lib\\site-packages (from dtale) (0.4.2)\n",
      "Requirement already satisfied: six in c:\\users\\subhajit\\anaconda3\\lib\\site-packages (from dtale) (1.16.0)\n",
      "Requirement already satisfied: scipy in c:\\users\\subhajit\\anaconda3\\lib\\site-packages (from dtale) (1.9.1)\n",
      "Requirement already satisfied: dash>=2.0.0 in c:\\users\\subhajit\\anaconda3\\lib\\site-packages (from dtale) (2.6.2)\n",
      "Requirement already satisfied: xlrd in c:\\users\\subhajit\\anaconda3\\lib\\site-packages (from dtale) (2.0.1)\n",
      "Requirement already satisfied: numpy in c:\\users\\subhajit\\anaconda3\\lib\\site-packages (from dtale) (1.21.5)\n",
      "Requirement already satisfied: certifi in c:\\users\\subhajit\\anaconda3\\lib\\site-packages (from dtale) (2021.10.8)\n",
      "Requirement already satisfied: dash-html-components==2.0.0 in c:\\users\\subhajit\\anaconda3\\lib\\site-packages (from dash>=2.0.0->dtale) (2.0.0)\n",
      "Requirement already satisfied: dash-table==5.0.0 in c:\\users\\subhajit\\anaconda3\\lib\\site-packages (from dash>=2.0.0->dtale) (5.0.0)\n",
      "Requirement already satisfied: dash-core-components==2.0.0 in c:\\users\\subhajit\\anaconda3\\lib\\site-packages (from dash>=2.0.0->dtale) (2.0.0)\n",
      "Requirement already satisfied: click>=8.0 in c:\\users\\subhajit\\anaconda3\\lib\\site-packages (from Flask->dtale) (8.0.4)\n",
      "Requirement already satisfied: importlib-metadata>=3.6.0 in c:\\users\\subhajit\\anaconda3\\lib\\site-packages (from Flask->dtale) (4.11.3)\n",
      "Requirement already satisfied: Werkzeug>=2.2.2 in c:\\users\\subhajit\\anaconda3\\lib\\site-packages (from Flask->dtale) (2.2.2)\n",
      "Requirement already satisfied: Jinja2>=3.0 in c:\\users\\subhajit\\anaconda3\\lib\\site-packages (from Flask->dtale) (3.0.3)\n",
      "Requirement already satisfied: colorama in c:\\users\\subhajit\\anaconda3\\lib\\site-packages (from click>=8.0->Flask->dtale) (0.4.4)\n",
      "Requirement already satisfied: zipp>=0.5 in c:\\users\\subhajit\\anaconda3\\lib\\site-packages (from importlib-metadata>=3.6.0->Flask->dtale) (3.7.0)\n",
      "Requirement already satisfied: MarkupSafe>=2.0 in c:\\users\\subhajit\\anaconda3\\lib\\site-packages (from Jinja2>=3.0->Flask->dtale) (2.1.1)\n",
      "Requirement already satisfied: tenacity>=6.2.0 in c:\\users\\subhajit\\anaconda3\\lib\\site-packages (from plotly>=5.0.0->dtale) (8.0.1)\n",
      "Requirement already satisfied: brotli in c:\\users\\subhajit\\anaconda3\\lib\\site-packages (from Flask-Compress->dtale) (1.0.9)\n",
      "Requirement already satisfied: kiwisolver>=1.0.1 in c:\\users\\subhajit\\anaconda3\\lib\\site-packages (from matplotlib->dtale) (1.3.2)\n",
      "Requirement already satisfied: pyparsing>=2.2.1 in c:\\users\\subhajit\\anaconda3\\lib\\site-packages (from matplotlib->dtale) (3.0.4)\n",
      "Requirement already satisfied: packaging>=20.0 in c:\\users\\subhajit\\anaconda3\\lib\\site-packages (from matplotlib->dtale) (21.3)\n",
      "Requirement already satisfied: pillow>=6.2.0 in c:\\users\\subhajit\\anaconda3\\lib\\site-packages (from matplotlib->dtale) (9.0.1)\n",
      "Requirement already satisfied: python-dateutil>=2.7 in c:\\users\\subhajit\\anaconda3\\lib\\site-packages (from matplotlib->dtale) (2.8.2)\n",
      "Requirement already satisfied: fonttools>=4.22.0 in c:\\users\\subhajit\\anaconda3\\lib\\site-packages (from matplotlib->dtale) (4.25.0)\n",
      "Requirement already satisfied: pytz>=2020.1 in c:\\users\\subhajit\\anaconda3\\lib\\site-packages (from pandas->dtale) (2021.3)\n",
      "Requirement already satisfied: idna<4,>=2.5 in c:\\users\\subhajit\\anaconda3\\lib\\site-packages (from requests->dtale) (3.3)\n",
      "Requirement already satisfied: urllib3<1.27,>=1.21.1 in c:\\users\\subhajit\\anaconda3\\lib\\site-packages (from requests->dtale) (1.26.9)\n",
      "Requirement already satisfied: charset-normalizer~=2.0.0 in c:\\users\\subhajit\\anaconda3\\lib\\site-packages (from requests->dtale) (2.0.4)\n",
      "Requirement already satisfied: threadpoolctl>=2.0.0 in c:\\users\\subhajit\\anaconda3\\lib\\site-packages (from scikit-learn->dtale) (2.2.0)\n",
      "Requirement already satisfied: joblib>=0.11 in c:\\users\\subhajit\\anaconda3\\lib\\site-packages (from scikit-learn->dtale) (1.1.0)\n",
      "Requirement already satisfied: patsy>=0.5.2 in c:\\users\\subhajit\\anaconda3\\lib\\site-packages (from statsmodels->dtale) (0.5.2)\n"
     ]
    }
   ],
   "source": [
    "!pip install dtale"
   ]
  },
  {
   "cell_type": "code",
   "execution_count": 2,
   "id": "01942eb5",
   "metadata": {
    "ExecuteTime": {
     "end_time": "2022-09-25T05:58:27.245513Z",
     "start_time": "2022-09-25T05:58:26.785743Z"
    }
   },
   "outputs": [],
   "source": [
    "import pandas as pd\n",
    "data = r\"E:\\OneDrive - student.amity.edu\\office\\python & R\\DataScience_ineuron\\Ineuron tutorial resources\\EDA\\EDA_Dataset\\Dataset\\data5\\Visadataset.csv\"\n",
    "df = pd.read_csv(data)"
   ]
  },
  {
   "cell_type": "code",
   "execution_count": 4,
   "id": "37e2cbbc",
   "metadata": {
    "ExecuteTime": {
     "end_time": "2022-09-25T05:59:48.673213Z",
     "start_time": "2022-09-25T05:59:44.380837Z"
    }
   },
   "outputs": [
    {
     "data": {
      "text/html": [
       "\n",
       "        <iframe\n",
       "            width=\"100%\"\n",
       "            height=\"475\"\n",
       "            src=\"http://GIS-PC:40000/dtale/iframe/1\"\n",
       "            frameborder=\"0\"\n",
       "            allowfullscreen\n",
       "            \n",
       "        ></iframe>\n",
       "        "
      ],
      "text/plain": [
       "<IPython.lib.display.IFrame at 0x2662bf14fd0>"
      ]
     },
     "metadata": {},
     "output_type": "display_data"
    },
    {
     "data": {
      "text/plain": []
     },
     "execution_count": 4,
     "metadata": {},
     "output_type": "execute_result"
    }
   ],
   "source": [
    "import dtale\n",
    "dtale.show(df)"
   ]
  },
  {
   "cell_type": "code",
   "execution_count": null,
   "id": "03650d09",
   "metadata": {},
   "outputs": [],
   "source": []
  }
 ],
 "metadata": {
  "kernelspec": {
   "display_name": "Python 3 (ipykernel)",
   "language": "python",
   "name": "python3"
  },
  "language_info": {
   "codemirror_mode": {
    "name": "ipython",
    "version": 3
   },
   "file_extension": ".py",
   "mimetype": "text/x-python",
   "name": "python",
   "nbconvert_exporter": "python",
   "pygments_lexer": "ipython3",
   "version": "3.9.12"
  },
  "varInspector": {
   "cols": {
    "lenName": 16,
    "lenType": 16,
    "lenVar": 40
   },
   "kernels_config": {
    "python": {
     "delete_cmd_postfix": "",
     "delete_cmd_prefix": "del ",
     "library": "var_list.py",
     "varRefreshCmd": "print(var_dic_list())"
    },
    "r": {
     "delete_cmd_postfix": ") ",
     "delete_cmd_prefix": "rm(",
     "library": "var_list.r",
     "varRefreshCmd": "cat(var_dic_list()) "
    }
   },
   "types_to_exclude": [
    "module",
    "function",
    "builtin_function_or_method",
    "instance",
    "_Feature"
   ],
   "window_display": false
  }
 },
 "nbformat": 4,
 "nbformat_minor": 5
}
