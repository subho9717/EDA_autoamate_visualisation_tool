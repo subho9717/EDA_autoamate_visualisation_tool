{
 "cells": [
  {
   "cell_type": "code",
   "execution_count": 1,
   "id": "997ff320",
   "metadata": {
    "ExecuteTime": {
     "end_time": "2022-09-25T06:18:09.660125Z",
     "start_time": "2022-09-25T06:18:06.243263Z"
    }
   },
   "outputs": [
    {
     "name": "stdout",
     "output_type": "stream",
     "text": [
      "Requirement already satisfied: mitosheet in c:\\users\\subhajit\\anaconda3\\lib\\site-packages (0.1.449)\n",
      "Requirement already satisfied: ipywidgets>=7 in c:\\users\\subhajit\\anaconda3\\lib\\site-packages (from mitosheet) (7.6.5)\n",
      "Requirement already satisfied: plotly>=4.14.3 in c:\\users\\subhajit\\anaconda3\\lib\\site-packages (from mitosheet) (5.6.0)\n",
      "Requirement already satisfied: openpyxl in c:\\users\\subhajit\\anaconda3\\lib\\site-packages (from mitosheet) (3.0.9)\n",
      "Requirement already satisfied: jupyterlab~=3.0 in c:\\users\\subhajit\\anaconda3\\lib\\site-packages (from mitosheet) (3.3.2)\n",
      "Requirement already satisfied: pandas>=0.24.2 in c:\\users\\subhajit\\anaconda3\\lib\\site-packages (from mitosheet) (1.4.2)\n",
      "Requirement already satisfied: chardet>=3.0.4 in c:\\users\\subhajit\\anaconda3\\lib\\site-packages (from mitosheet) (4.0.0)\n",
      "Requirement already satisfied: jupyterlab-widgets>=3.0 in c:\\users\\subhajit\\anaconda3\\lib\\site-packages (from mitosheet) (3.0.3)\n",
      "Requirement already satisfied: analytics-python in c:\\users\\subhajit\\anaconda3\\lib\\site-packages (from mitosheet) (1.4.0)\n",
      "Requirement already satisfied: xlsxwriter<=3.0.2,>=0.6.9 in c:\\users\\subhajit\\anaconda3\\lib\\site-packages (from mitosheet) (3.0.2)\n",
      "Requirement already satisfied: ipykernel>=4.5.1 in c:\\users\\subhajit\\anaconda3\\lib\\site-packages (from ipywidgets>=7->mitosheet) (6.9.1)\n",
      "Requirement already satisfied: widgetsnbextension~=3.5.0 in c:\\users\\subhajit\\anaconda3\\lib\\site-packages (from ipywidgets>=7->mitosheet) (3.5.2)\n",
      "Requirement already satisfied: ipython-genutils~=0.2.0 in c:\\users\\subhajit\\anaconda3\\lib\\site-packages (from ipywidgets>=7->mitosheet) (0.2.0)\n",
      "Requirement already satisfied: nbformat>=4.2.0 in c:\\users\\subhajit\\anaconda3\\lib\\site-packages (from ipywidgets>=7->mitosheet) (5.3.0)\n",
      "Requirement already satisfied: traitlets>=4.3.1 in c:\\users\\subhajit\\anaconda3\\lib\\site-packages (from ipywidgets>=7->mitosheet) (5.1.1)\n",
      "Requirement already satisfied: ipython>=4.0.0 in c:\\users\\subhajit\\anaconda3\\lib\\site-packages (from ipywidgets>=7->mitosheet) (8.2.0)\n",
      "Requirement already satisfied: tornado<7.0,>=4.2 in c:\\users\\subhajit\\anaconda3\\lib\\site-packages (from ipykernel>=4.5.1->ipywidgets>=7->mitosheet) (6.1)\n",
      "Requirement already satisfied: nest-asyncio in c:\\users\\subhajit\\anaconda3\\lib\\site-packages (from ipykernel>=4.5.1->ipywidgets>=7->mitosheet) (1.5.5)\n",
      "Requirement already satisfied: matplotlib-inline<0.2.0,>=0.1.0 in c:\\users\\subhajit\\anaconda3\\lib\\site-packages (from ipykernel>=4.5.1->ipywidgets>=7->mitosheet) (0.1.2)\n",
      "Requirement already satisfied: debugpy<2.0,>=1.0.0 in c:\\users\\subhajit\\anaconda3\\lib\\site-packages (from ipykernel>=4.5.1->ipywidgets>=7->mitosheet) (1.5.1)\n",
      "Requirement already satisfied: jupyter-client<8.0 in c:\\users\\subhajit\\anaconda3\\lib\\site-packages (from ipykernel>=4.5.1->ipywidgets>=7->mitosheet) (6.1.12)\n",
      "Requirement already satisfied: jedi>=0.16 in c:\\users\\subhajit\\anaconda3\\lib\\site-packages (from ipython>=4.0.0->ipywidgets>=7->mitosheet) (0.18.1)\n",
      "Requirement already satisfied: decorator in c:\\users\\subhajit\\anaconda3\\lib\\site-packages (from ipython>=4.0.0->ipywidgets>=7->mitosheet) (5.1.1)\n",
      "Requirement already satisfied: backcall in c:\\users\\subhajit\\anaconda3\\lib\\site-packages (from ipython>=4.0.0->ipywidgets>=7->mitosheet) (0.2.0)\n",
      "Requirement already satisfied: colorama in c:\\users\\subhajit\\anaconda3\\lib\\site-packages (from ipython>=4.0.0->ipywidgets>=7->mitosheet) (0.4.4)\n",
      "Requirement already satisfied: prompt-toolkit!=3.0.0,!=3.0.1,<3.1.0,>=2.0.0 in c:\\users\\subhajit\\anaconda3\\lib\\site-packages (from ipython>=4.0.0->ipywidgets>=7->mitosheet) (3.0.20)\n",
      "Requirement already satisfied: stack-data in c:\\users\\subhajit\\anaconda3\\lib\\site-packages (from ipython>=4.0.0->ipywidgets>=7->mitosheet) (0.2.0)\n",
      "Requirement already satisfied: pickleshare in c:\\users\\subhajit\\anaconda3\\lib\\site-packages (from ipython>=4.0.0->ipywidgets>=7->mitosheet) (0.7.5)\n",
      "Requirement already satisfied: pygments>=2.4.0 in c:\\users\\subhajit\\anaconda3\\lib\\site-packages (from ipython>=4.0.0->ipywidgets>=7->mitosheet) (2.11.2)\n",
      "Requirement already satisfied: setuptools>=18.5 in c:\\users\\subhajit\\anaconda3\\lib\\site-packages (from ipython>=4.0.0->ipywidgets>=7->mitosheet) (60.10.0)\n",
      "Requirement already satisfied: parso<0.9.0,>=0.8.0 in c:\\users\\subhajit\\anaconda3\\lib\\site-packages (from jedi>=0.16->ipython>=4.0.0->ipywidgets>=7->mitosheet) (0.8.3)\n",
      "Requirement already satisfied: pyzmq>=13 in c:\\users\\subhajit\\anaconda3\\lib\\site-packages (from jupyter-client<8.0->ipykernel>=4.5.1->ipywidgets>=7->mitosheet) (22.3.0)\n",
      "Requirement already satisfied: python-dateutil>=2.1 in c:\\users\\subhajit\\anaconda3\\lib\\site-packages (from jupyter-client<8.0->ipykernel>=4.5.1->ipywidgets>=7->mitosheet) (2.8.2)\n",
      "Requirement already satisfied: jupyter-core>=4.6.0 in c:\\users\\subhajit\\anaconda3\\lib\\site-packages (from jupyter-client<8.0->ipykernel>=4.5.1->ipywidgets>=7->mitosheet) (4.9.2)\n",
      "Requirement already satisfied: pywin32>=1.0 in c:\\users\\subhajit\\anaconda3\\lib\\site-packages (from jupyter-core>=4.6.0->jupyter-client<8.0->ipykernel>=4.5.1->ipywidgets>=7->mitosheet) (302)\n",
      "Requirement already satisfied: jupyter-server~=1.4 in c:\\users\\subhajit\\anaconda3\\lib\\site-packages (from jupyterlab~=3.0->mitosheet) (1.13.5)\n",
      "Requirement already satisfied: packaging in c:\\users\\subhajit\\anaconda3\\lib\\site-packages (from jupyterlab~=3.0->mitosheet) (21.3)\n",
      "Requirement already satisfied: jupyterlab-server~=2.10 in c:\\users\\subhajit\\anaconda3\\lib\\site-packages (from jupyterlab~=3.0->mitosheet) (2.10.3)\n",
      "Requirement already satisfied: jinja2>=2.1 in c:\\users\\subhajit\\anaconda3\\lib\\site-packages (from jupyterlab~=3.0->mitosheet) (3.0.3)\n",
      "Requirement already satisfied: nbclassic~=0.2 in c:\\users\\subhajit\\anaconda3\\lib\\site-packages (from jupyterlab~=3.0->mitosheet) (0.3.5)\n",
      "Requirement already satisfied: MarkupSafe>=2.0 in c:\\users\\subhajit\\anaconda3\\lib\\site-packages (from jinja2>=2.1->jupyterlab~=3.0->mitosheet) (2.1.1)\n",
      "Requirement already satisfied: Send2Trash in c:\\users\\subhajit\\anaconda3\\lib\\site-packages (from jupyter-server~=1.4->jupyterlab~=3.0->mitosheet) (1.8.0)\n",
      "Requirement already satisfied: pywinpty<2 in c:\\users\\subhajit\\anaconda3\\lib\\site-packages (from jupyter-server~=1.4->jupyterlab~=3.0->mitosheet) (1.1.6)\n",
      "Requirement already satisfied: terminado>=0.8.3 in c:\\users\\subhajit\\anaconda3\\lib\\site-packages (from jupyter-server~=1.4->jupyterlab~=3.0->mitosheet) (0.13.1)\n",
      "Requirement already satisfied: anyio<4,>=3.1.0 in c:\\users\\subhajit\\anaconda3\\lib\\site-packages (from jupyter-server~=1.4->jupyterlab~=3.0->mitosheet) (3.5.0)\n",
      "Requirement already satisfied: nbconvert in c:\\users\\subhajit\\anaconda3\\lib\\site-packages (from jupyter-server~=1.4->jupyterlab~=3.0->mitosheet) (6.4.4)\n",
      "Requirement already satisfied: websocket-client in c:\\users\\subhajit\\anaconda3\\lib\\site-packages (from jupyter-server~=1.4->jupyterlab~=3.0->mitosheet) (0.58.0)\n",
      "Requirement already satisfied: argon2-cffi in c:\\users\\subhajit\\anaconda3\\lib\\site-packages (from jupyter-server~=1.4->jupyterlab~=3.0->mitosheet) (21.3.0)\n",
      "Requirement already satisfied: prometheus-client in c:\\users\\subhajit\\anaconda3\\lib\\site-packages (from jupyter-server~=1.4->jupyterlab~=3.0->mitosheet) (0.13.1)\n",
      "Requirement already satisfied: sniffio>=1.1 in c:\\users\\subhajit\\anaconda3\\lib\\site-packages (from anyio<4,>=3.1.0->jupyter-server~=1.4->jupyterlab~=3.0->mitosheet) (1.2.0)\n",
      "Requirement already satisfied: idna>=2.8 in c:\\users\\subhajit\\anaconda3\\lib\\site-packages (from anyio<4,>=3.1.0->jupyter-server~=1.4->jupyterlab~=3.0->mitosheet) (3.3)\n",
      "Requirement already satisfied: jsonschema>=3.0.1 in c:\\users\\subhajit\\anaconda3\\lib\\site-packages (from jupyterlab-server~=2.10->jupyterlab~=3.0->mitosheet) (4.4.0)\n",
      "Requirement already satisfied: entrypoints>=0.2.2 in c:\\users\\subhajit\\anaconda3\\lib\\site-packages (from jupyterlab-server~=2.10->jupyterlab~=3.0->mitosheet) (0.4)\n",
      "Requirement already satisfied: json5 in c:\\users\\subhajit\\anaconda3\\lib\\site-packages (from jupyterlab-server~=2.10->jupyterlab~=3.0->mitosheet) (0.9.6)\n",
      "Requirement already satisfied: requests in c:\\users\\subhajit\\anaconda3\\lib\\site-packages (from jupyterlab-server~=2.10->jupyterlab~=3.0->mitosheet) (2.27.1)\n",
      "Requirement already satisfied: babel in c:\\users\\subhajit\\anaconda3\\lib\\site-packages (from jupyterlab-server~=2.10->jupyterlab~=3.0->mitosheet) (2.9.1)\n",
      "Requirement already satisfied: attrs>=17.4.0 in c:\\users\\subhajit\\anaconda3\\lib\\site-packages (from jsonschema>=3.0.1->jupyterlab-server~=2.10->jupyterlab~=3.0->mitosheet) (21.4.0)\n",
      "Requirement already satisfied: pyrsistent!=0.17.0,!=0.17.1,!=0.17.2,>=0.14.0 in c:\\users\\subhajit\\anaconda3\\lib\\site-packages (from jsonschema>=3.0.1->jupyterlab-server~=2.10->jupyterlab~=3.0->mitosheet) (0.18.0)\n",
      "Requirement already satisfied: notebook<7 in c:\\users\\subhajit\\anaconda3\\lib\\site-packages (from nbclassic~=0.2->jupyterlab~=3.0->mitosheet) (6.4.8)\n",
      "Requirement already satisfied: fastjsonschema in c:\\users\\subhajit\\anaconda3\\lib\\site-packages (from nbformat>=4.2.0->ipywidgets>=7->mitosheet) (2.15.1)\n",
      "Requirement already satisfied: numpy>=1.18.5 in c:\\users\\subhajit\\anaconda3\\lib\\site-packages (from pandas>=0.24.2->mitosheet) (1.21.5)\n",
      "Requirement already satisfied: pytz>=2020.1 in c:\\users\\subhajit\\anaconda3\\lib\\site-packages (from pandas>=0.24.2->mitosheet) (2021.3)\n",
      "Requirement already satisfied: tenacity>=6.2.0 in c:\\users\\subhajit\\anaconda3\\lib\\site-packages (from plotly>=4.14.3->mitosheet) (8.0.1)\n",
      "Requirement already satisfied: six in c:\\users\\subhajit\\anaconda3\\lib\\site-packages (from plotly>=4.14.3->mitosheet) (1.16.0)\n",
      "Requirement already satisfied: wcwidth in c:\\users\\subhajit\\anaconda3\\lib\\site-packages (from prompt-toolkit!=3.0.0,!=3.0.1,<3.1.0,>=2.0.0->ipython>=4.0.0->ipywidgets>=7->mitosheet) (0.2.5)\n",
      "Requirement already satisfied: backoff==1.10.0 in c:\\users\\subhajit\\anaconda3\\lib\\site-packages (from analytics-python->mitosheet) (1.10.0)\n",
      "Requirement already satisfied: monotonic>=1.5 in c:\\users\\subhajit\\anaconda3\\lib\\site-packages (from analytics-python->mitosheet) (1.6)\n",
      "Requirement already satisfied: urllib3<1.27,>=1.21.1 in c:\\users\\subhajit\\anaconda3\\lib\\site-packages (from requests->jupyterlab-server~=2.10->jupyterlab~=3.0->mitosheet) (1.26.9)\n",
      "Requirement already satisfied: charset-normalizer~=2.0.0 in c:\\users\\subhajit\\anaconda3\\lib\\site-packages (from requests->jupyterlab-server~=2.10->jupyterlab~=3.0->mitosheet) (2.0.4)\n",
      "Requirement already satisfied: certifi>=2017.4.17 in c:\\users\\subhajit\\anaconda3\\lib\\site-packages (from requests->jupyterlab-server~=2.10->jupyterlab~=3.0->mitosheet) (2021.10.8)\n",
      "Requirement already satisfied: argon2-cffi-bindings in c:\\users\\subhajit\\anaconda3\\lib\\site-packages (from argon2-cffi->jupyter-server~=1.4->jupyterlab~=3.0->mitosheet) (21.2.0)\n",
      "Requirement already satisfied: cffi>=1.0.1 in c:\\users\\subhajit\\anaconda3\\lib\\site-packages (from argon2-cffi-bindings->argon2-cffi->jupyter-server~=1.4->jupyterlab~=3.0->mitosheet) (1.15.0)\n",
      "Requirement already satisfied: pycparser in c:\\users\\subhajit\\anaconda3\\lib\\site-packages (from cffi>=1.0.1->argon2-cffi-bindings->argon2-cffi->jupyter-server~=1.4->jupyterlab~=3.0->mitosheet) (2.21)\n",
      "Requirement already satisfied: pandocfilters>=1.4.1 in c:\\users\\subhajit\\anaconda3\\lib\\site-packages (from nbconvert->jupyter-server~=1.4->jupyterlab~=3.0->mitosheet) (1.5.0)\n",
      "Requirement already satisfied: defusedxml in c:\\users\\subhajit\\anaconda3\\lib\\site-packages (from nbconvert->jupyter-server~=1.4->jupyterlab~=3.0->mitosheet) (0.7.1)\n",
      "Requirement already satisfied: beautifulsoup4 in c:\\users\\subhajit\\anaconda3\\lib\\site-packages (from nbconvert->jupyter-server~=1.4->jupyterlab~=3.0->mitosheet) (4.11.1)\n",
      "Requirement already satisfied: mistune<2,>=0.8.1 in c:\\users\\subhajit\\anaconda3\\lib\\site-packages (from nbconvert->jupyter-server~=1.4->jupyterlab~=3.0->mitosheet) (0.8.4)\n",
      "Requirement already satisfied: bleach in c:\\users\\subhajit\\anaconda3\\lib\\site-packages (from nbconvert->jupyter-server~=1.4->jupyterlab~=3.0->mitosheet) (4.1.0)\n",
      "Requirement already satisfied: jupyterlab-pygments in c:\\users\\subhajit\\anaconda3\\lib\\site-packages (from nbconvert->jupyter-server~=1.4->jupyterlab~=3.0->mitosheet) (0.1.2)\n",
      "Requirement already satisfied: nbclient<0.6.0,>=0.5.0 in c:\\users\\subhajit\\anaconda3\\lib\\site-packages (from nbconvert->jupyter-server~=1.4->jupyterlab~=3.0->mitosheet) (0.5.13)\n",
      "Requirement already satisfied: testpath in c:\\users\\subhajit\\anaconda3\\lib\\site-packages (from nbconvert->jupyter-server~=1.4->jupyterlab~=3.0->mitosheet) (0.5.0)\n",
      "Requirement already satisfied: soupsieve>1.2 in c:\\users\\subhajit\\anaconda3\\lib\\site-packages (from beautifulsoup4->nbconvert->jupyter-server~=1.4->jupyterlab~=3.0->mitosheet) (2.3.1)\n",
      "Requirement already satisfied: webencodings in c:\\users\\subhajit\\anaconda3\\lib\\site-packages (from bleach->nbconvert->jupyter-server~=1.4->jupyterlab~=3.0->mitosheet) (0.5.1)\n",
      "Requirement already satisfied: et-xmlfile in c:\\users\\subhajit\\anaconda3\\lib\\site-packages (from openpyxl->mitosheet) (1.1.0)\n",
      "Requirement already satisfied: pyparsing!=3.0.5,>=2.0.2 in c:\\users\\subhajit\\anaconda3\\lib\\site-packages (from packaging->jupyterlab~=3.0->mitosheet) (3.0.4)\n",
      "Requirement already satisfied: pure-eval in c:\\users\\subhajit\\anaconda3\\lib\\site-packages (from stack-data->ipython>=4.0.0->ipywidgets>=7->mitosheet) (0.2.2)\n",
      "Requirement already satisfied: executing in c:\\users\\subhajit\\anaconda3\\lib\\site-packages (from stack-data->ipython>=4.0.0->ipywidgets>=7->mitosheet) (0.8.3)\n",
      "Requirement already satisfied: asttokens in c:\\users\\subhajit\\anaconda3\\lib\\site-packages (from stack-data->ipython>=4.0.0->ipywidgets>=7->mitosheet) (2.0.5)\n"
     ]
    }
   ],
   "source": [
    "!pip install mitosheet"
   ]
  },
  {
   "cell_type": "code",
   "execution_count": 2,
   "id": "f4183e24",
   "metadata": {
    "ExecuteTime": {
     "end_time": "2022-09-25T06:18:14.776150Z",
     "start_time": "2022-09-25T06:18:14.498486Z"
    }
   },
   "outputs": [],
   "source": [
    "import pandas as pd\n",
    "data = r\"E:\\OneDrive - student.amity.edu\\office\\python & R\\DataScience_ineuron\\Ineuron tutorial resources\\EDA\\EDA_Dataset\\Dataset\\data5\\Visadataset.csv\"\n",
    "df = pd.read_csv(data)"
   ]
  },
  {
   "cell_type": "code",
   "execution_count": 4,
   "id": "7f3f3c1e",
   "metadata": {
    "ExecuteTime": {
     "end_time": "2022-09-25T06:19:28.944249Z",
     "start_time": "2022-09-25T06:19:24.226598Z"
    }
   },
   "outputs": [
    {
     "data": {
      "application/vnd.jupyter.widget-view+json": {
       "model_id": "7c78076846ba4c80990042c7ccf47e78",
       "version_major": 2,
       "version_minor": 0
      },
      "text/plain": [
       "MitoWidget(analysis_data_json='{\"analysisName\": \"id-ssgrkxmqcq\", \"analysisToReplay\": null, \"code\": [], \"stepSu…"
      ]
     },
     "metadata": {},
     "output_type": "display_data"
    }
   ],
   "source": [
    "import mitosheet\n",
    "mitosheet.sheet(df, analysis_to_replay=\"id-ssgrkxmqcq\")"
   ]
  },
  {
   "cell_type": "code",
   "execution_count": null,
   "id": "aec6be6b",
   "metadata": {},
   "outputs": [],
   "source": []
  }
 ],
 "metadata": {
  "kernelspec": {
   "display_name": "Python 3 (ipykernel)",
   "language": "python",
   "name": "python3"
  },
  "language_info": {
   "codemirror_mode": {
    "name": "ipython",
    "version": 3
   },
   "file_extension": ".py",
   "mimetype": "text/x-python",
   "name": "python",
   "nbconvert_exporter": "python",
   "pygments_lexer": "ipython3",
   "version": "3.9.12"
  },
  "varInspector": {
   "cols": {
    "lenName": 16,
    "lenType": 16,
    "lenVar": 40
   },
   "kernels_config": {
    "python": {
     "delete_cmd_postfix": "",
     "delete_cmd_prefix": "del ",
     "library": "var_list.py",
     "varRefreshCmd": "print(var_dic_list())"
    },
    "r": {
     "delete_cmd_postfix": ") ",
     "delete_cmd_prefix": "rm(",
     "library": "var_list.r",
     "varRefreshCmd": "cat(var_dic_list()) "
    }
   },
   "types_to_exclude": [
    "module",
    "function",
    "builtin_function_or_method",
    "instance",
    "_Feature"
   ],
   "window_display": false
  }
 },
 "nbformat": 4,
 "nbformat_minor": 5
}
